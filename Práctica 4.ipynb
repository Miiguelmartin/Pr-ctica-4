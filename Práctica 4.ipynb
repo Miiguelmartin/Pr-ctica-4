{
  "nbformat": 4,
  "nbformat_minor": 0,
  "metadata": {
    "colab": {
      "name": "Untitled3.ipynb",
      "provenance": [],
      "authorship_tag": "ABX9TyMM443ZZnB0mVH0fp2SQcqm",
      "include_colab_link": true
    },
    "kernelspec": {
      "name": "python3",
      "display_name": "Python 3"
    },
    "language_info": {
      "name": "python"
    }
  },
  "cells": [
    {
      "cell_type": "markdown",
      "metadata": {
        "id": "view-in-github",
        "colab_type": "text"
      },
      "source": [
        "<a href=\"https://colab.research.google.com/github/Miiguelmartin/Pr-ctica-4/blob/main/Pr%C3%A1ctica%204.ipynb\" target=\"_parent\"><img src=\"https://colab.research.google.com/assets/colab-badge.svg\" alt=\"Open In Colab\"/></a>"
      ]
    },
    {
      "cell_type": "code",
      "execution_count": 1,
      "metadata": {
        "colab": {
          "base_uri": "https://localhost:8080/",
          "height": 372
        },
        "id": "joUi29EakThm",
        "outputId": "e149ab56-c6ee-42d3-aba7-2a9d3d4af73b"
      },
      "outputs": [
        {
          "output_type": "stream",
          "name": "stdout",
          "text": [
            "[ 1.  1.  1.  1.  1.  1.  1.  1.  1.  1.  1.  1.  1.  1.  1.  1.  1.  1.\n",
            "  1.  1.  1.  0. -1. -2. -3. -4. -5. -6. -7. -8. -9. -9. -9. -9. -9. -9.\n",
            " -9. -9. -9. -9. -9. -8. -7. -6. -5. -4. -3. -2. -1.  0.  1.  1.  1.  1.\n",
            "  1.  1.  1.  1.  1.  1.  1.  1.  1.  1.  1.  1.  1.  1.  1.  1.]\n",
            "[70, 71, 72, 73, 74, 75, 76, 77, 78, 79, 80, 81, 82, 83, 84, 85, 86, 87, 88, 89, 90, 91, 92, 93, 94, 95, 96, 97, 98, 99, 100, 101, 102, 103, 104, 105, 106, 107, 108, 109, 110, 111, 112, 113, 114, 115, 116, 117, 118, 119, 120, 121, 122, 123, 124, 125, 126, 127, 128, 129, 130, 131, 132, 133, 134, 135, 136, 137, 138, 139]\n"
          ]
        },
        {
          "output_type": "display_data",
          "data": {
            "text/plain": [
              "<Figure size 432x288 with 1 Axes>"
            ],
            "image/png": "[encoded data removed]"
          },
          "metadata": {
            "needs_background": "light"
          }
        }
      ],
      "source": [
        "import numpy as np\n",
        "import matplotlib.pyplot as plt  \n",
        "\n",
        "tipo_estrategia = \"Vendemos\"\n",
        "\n",
        "pe_A = 90\n",
        "pe_B = 100\n",
        "pe_C = 110\n",
        "pe_D = 120\n",
        "\n",
        "prima_A = 1\n",
        "prima_B = 0.5\n",
        "prima_C = 0.5\n",
        "prima_D = 1\n",
        "\n",
        "cantidad_A = 1\n",
        "cantidad_B = 1\n",
        "cantidad_C = 1\n",
        "cantidad_D = 1\n",
        "\n",
        "margen = 20\n",
        "\n",
        "S = [*range(pe_A - margen, pe_D + margen)]\n",
        "S\n",
        "\n",
        "valor_A = [0]*len(S)\n",
        "valor_B = [0]*len(S)\n",
        "valor_C = [0]*len(S)\n",
        "valor_D = [0]*len(S)\n",
        "\n",
        "for i in range(0, len(S)):\n",
        "  if S[i] < pe_A:\n",
        "    valor_A[i] = 0 - prima_A\n",
        "  else:\n",
        "    valor_A[i] = S[i] - pe_A - prima_A\n",
        "\n",
        "for i in range(0, len(S)):\n",
        "  if S[i] < pe_B:\n",
        "    valor_B[i] = 0 - prima_B\n",
        "  else:\n",
        "    valor_B[i] = S[i] - pe_B - prima_B\n",
        "\n",
        "for i in range(0, len(S)):\n",
        "  if S[i] < pe_C:\n",
        "    valor_C[i] = 0 - prima_C\n",
        "  else:\n",
        "    valor_C[i] = S[i] - pe_C - prima_C\n",
        "\n",
        "for i in range(0, len(S)):\n",
        "  if S[i] < pe_D:\n",
        "    valor_D[i] = 0 - prima_D\n",
        "  else:\n",
        "    valor_D[i] = S[i] - pe_D - prima_D\n",
        "\n",
        "valor_A = np.array(valor_A)\n",
        "valor_B = np.array(valor_B)\n",
        "valor_C = np.array(valor_C)\n",
        "valor_D = np.array(valor_D)\n",
        "\n",
        "if tipo_estrategia == \"Compramos\":\n",
        "  valor_A = valor_A * cantidad_A\n",
        "  valor_B = valor_B * cantidad_B * -1\n",
        "  valor_C = valor_C * cantidad_C * -1\n",
        "  valor_D = valor_D * cantidad_D\n",
        "  \n",
        "else:\n",
        "  valor_A = valor_A * cantidad_A * -1\n",
        "  valor_B = valor_B * cantidad_B\n",
        "  valor_C = valor_C * cantidad_C\n",
        "  valor_D = valor_D * cantidad_D * -1\n",
        "\n",
        "valor_total = valor_A + valor_B + valor_C + valor_D\n",
        "\n",
        "print(valor_total)\n",
        "print(S)\n",
        "\n",
        "plt.plot(S, valor_total)  \n",
        "plt.show()"
      ]
    }
  ]
}